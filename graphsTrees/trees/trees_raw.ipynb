{
 "cells": [
  {
   "cell_type": "code",
   "execution_count": 41,
   "metadata": {},
   "outputs": [],
   "source": [
    "class Node:\n",
    "    def __init__(self, key):\n",
    "        self.key   = key\n",
    "        self.left  = None \n",
    "        self.right = None    "
   ]
  },
  {
   "cell_type": "code",
   "execution_count": 42,
   "metadata": {},
   "outputs": [],
   "source": [
    "class Tree:\n",
    "    def createNode(self,key):\n",
    "        return Node(key)\n",
    "    def insert(self, node, key):\n",
    "        if node is None:\n",
    "            return self.createNode(key)\n",
    "        else:\n",
    "            if node.left is None:\n",
    "                node.left = self.createNode(key)\n",
    "            else:\n",
    "                node.right = self.createNode(key)\n",
    "        return node"
   ]
  }
 ],
 "metadata": {
  "kernelspec": {
   "display_name": "Python 3",
   "language": "python",
   "name": "python3"
  },
  "language_info": {
   "codemirror_mode": {
    "name": "ipython",
    "version": 3
   },
   "file_extension": ".py",
   "mimetype": "text/x-python",
   "name": "python",
   "nbconvert_exporter": "python",
   "pygments_lexer": "ipython3",
   "version": "3.8.3"
  }
 },
 "nbformat": 4,
 "nbformat_minor": 4
}
