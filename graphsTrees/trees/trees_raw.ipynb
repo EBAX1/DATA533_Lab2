{
 "cells": [
  {
   "cell_type": "code",
   "execution_count": 141,
   "metadata": {},
   "outputs": [],
   "source": [
    "from node import Node\n",
    "from tree import Tree"
   ]
  },
  {
   "cell_type": "code",
   "execution_count": 142,
   "metadata": {},
   "outputs": [],
   "source": [
    "class BST(Tree):\n",
    "    def search_node(self,node,key):\n",
    "        if node is None:\n",
    "            return \"This node does not exist\"\n",
    "        if node.key == key:\n",
    "            return \"Node {} exists\".format(key)\n",
    "        if node.key<key:\n",
    "            return self.search_node(node.right,key)\n",
    "        else:\n",
    "            return self.search_node(node.left,key)\n",
    "    \n",
    "    def delete_node(self,node,key):\n",
    "        if key < node.key:\n",
    "            node.left = self.delete_node(node.left,key)\n",
    "        elif key>node.key:\n",
    "            node.right = self.delete_node(node.right,key)\n",
    "        else:\n",
    "            if node.left is None and node.right is None:\n",
    "                return None\n",
    "            elif node.left is None:\n",
    "                swap = node.right\n",
    "                del node\n",
    "                return swap \n",
    "            elif node.right is None:\n",
    "                swap = node.left\n",
    "                del node\n",
    "                return swap\n",
    "    "
   ]
  },
  {
   "cell_type": "code",
   "execution_count": 143,
   "metadata": {},
   "outputs": [
    {
     "data": {
      "text/plain": [
       "<node.Node at 0x106d4eac0>"
      ]
     },
     "execution_count": 143,
     "metadata": {},
     "output_type": "execute_result"
    }
   ],
   "source": [
    "root = None\n",
    "bst = BST()\n",
    "root = bst.insert(root,10)\n",
    "bst.insert(root, 20)\n",
    "bst.insert(root, 30)\n",
    "bst.insert(root, 40)\n",
    "bst.insert(root, 6)"
   ]
  }
 ],
 "metadata": {
  "kernelspec": {
   "display_name": "Python 3",
   "language": "python",
   "name": "python3"
  },
  "language_info": {
   "codemirror_mode": {
    "name": "ipython",
    "version": 3
   },
   "file_extension": ".py",
   "mimetype": "text/x-python",
   "name": "python",
   "nbconvert_exporter": "python",
   "pygments_lexer": "ipython3",
   "version": "3.8.3"
  }
 },
 "nbformat": 4,
 "nbformat_minor": 4
}
