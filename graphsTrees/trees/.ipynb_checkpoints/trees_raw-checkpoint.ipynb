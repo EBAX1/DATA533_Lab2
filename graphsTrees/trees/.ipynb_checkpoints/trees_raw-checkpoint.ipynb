{
 "cells": [
  {
   "cell_type": "code",
   "execution_count": 16,
   "metadata": {},
   "outputs": [],
   "source": [
    "class Node:\n",
    "    def __init__(self, key):\n",
    "        self.key    = key\n",
    "        self.left   = None \n",
    "        self.right  = None   "
   ]
  },
  {
   "cell_type": "code",
   "execution_count": 24,
   "metadata": {},
   "outputs": [],
   "source": [
    "class Tree:\n",
    "   \n",
    "    def create_node(self,key):\n",
    "        return Node(key)\n",
    "    \n",
    "    def insert(self, node, key):\n",
    "        if node is None:\n",
    "            return self.create_node(key)\n",
    "        if key < node.key:\n",
    "            node.left = self.insert(node.left, key)\n",
    "        elif key > node.key:\n",
    "            node.right = self.insert(node.right, key)\n",
    "        return node\n",
    "    \n",
    "    def traverse_inorder(self,root):\n",
    "        if root is not None:\n",
    "            self.traverse_inorder(root.left)\n",
    "            print(root.key)\n",
    "            self.traverse_inorder(root.right)\n",
    "    \n",
    "    def traverse_preorder(self, root):\n",
    "        if root is not None:\n",
    "            print(root.key)\n",
    "            self.traverse_preorder(root.left)\n",
    "            self.traverse_preorder(root.right)\n",
    "    \n",
    "    def traverse_postorder(self, root):\n",
    "        if root is not None: \n",
    "            self.traverse_postorder(root.left)\n",
    "            self.traverse_postorder(root.right)\n",
    "            print(root.key)"
   ]
  }
 ],
 "metadata": {
  "kernelspec": {
   "display_name": "Python 3",
   "language": "python",
   "name": "python3"
  },
  "language_info": {
   "codemirror_mode": {
    "name": "ipython",
    "version": 3
   },
   "file_extension": ".py",
   "mimetype": "text/x-python",
   "name": "python",
   "nbconvert_exporter": "python",
   "pygments_lexer": "ipython3",
   "version": "3.8.3"
  }
 },
 "nbformat": 4,
 "nbformat_minor": 4
}
