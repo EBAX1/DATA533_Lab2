{
 "cells": [
  {
   "cell_type": "code",
   "execution_count": 1,
   "metadata": {},
   "outputs": [],
   "source": [
    "from graphsTrees.trees.node import Node\n",
    "from graphsTrees.trees.tree import Tree\n",
    "from graphsTrees.trees.bst import BST\n",
    "\n",
    "import random"
   ]
  },
  {
   "cell_type": "code",
   "execution_count": 2,
   "metadata": {},
   "outputs": [],
   "source": [
    "# Creating a generic tree and adding root \n",
    "generic_tree = Tree()\n",
    "root = generic_tree.create_node(1)"
   ]
  },
  {
   "cell_type": "code",
   "execution_count": 3,
   "metadata": {},
   "outputs": [],
   "source": [
    "# Adding nodes to generic_tree; stemming from root \n",
    "for i in random.sample(range(10, 20), 5):\n",
    "    generic_tree.insert(root,i)"
   ]
  },
  {
   "cell_type": "code",
   "execution_count": 4,
   "metadata": {},
   "outputs": [
    {
     "name": "stdout",
     "output_type": "stream",
     "text": [
      "Pre-order Tree Traversal\n",
      "1\n",
      "12\n",
      "13\n",
      "18\n",
      "16\n",
      "10\n",
      "In-order Tree Traversal\n",
      "10\n",
      "16\n",
      "18\n",
      "13\n",
      "12\n",
      "1\n",
      "Post-order Tree Traversal\n",
      "10\n",
      "16\n",
      "18\n",
      "13\n",
      "12\n",
      "1\n"
     ]
    }
   ],
   "source": [
    "print('Pre-order Tree Traversal')\n",
    "generic_tree.preorder(root)\n",
    "print('In-order Tree Traversal')\n",
    "generic_tree.inorder(root)\n",
    "print('Post-order Tree Traversal')\n",
    "generic_tree.postorder(root)"
   ]
  },
  {
   "cell_type": "code",
   "execution_count": 5,
   "metadata": {},
   "outputs": [
    {
     "name": "stdout",
     "output_type": "stream",
     "text": [
      "Node 3 does not exist\n",
      "Node 10 exists\n"
     ]
    }
   ],
   "source": [
    "# Searching for a node \n",
    "print(generic_tree.search_node(root,3))\n",
    "print(generic_tree.search_node(root,10))"
   ]
  },
  {
   "cell_type": "code",
   "execution_count": 6,
   "metadata": {},
   "outputs": [],
   "source": [
    "# Creating a BST and adding root \n",
    "bst = BST()\n",
    "root = bst.create_node(1)"
   ]
  },
  {
   "cell_type": "code",
   "execution_count": 7,
   "metadata": {},
   "outputs": [],
   "source": [
    "# Adding nodes to generic_tree; stemming from root \n",
    "for i in random.sample(range(10, 20), 5):\n",
    "    bst.insert(root,i)"
   ]
  },
  {
   "cell_type": "code",
   "execution_count": 8,
   "metadata": {},
   "outputs": [
    {
     "name": "stdout",
     "output_type": "stream",
     "text": [
      "Pre-order Tree Traversal\n",
      "1\n",
      "18\n",
      "10\n",
      "13\n",
      "17\n",
      "19\n",
      "In-order Tree Traversal\n",
      "1\n",
      "10\n",
      "13\n",
      "17\n",
      "18\n",
      "19\n",
      "Post-order Tree Traversal\n",
      "17\n",
      "13\n",
      "10\n",
      "19\n",
      "18\n",
      "1\n"
     ]
    }
   ],
   "source": [
    "print('Pre-order Tree Traversal')\n",
    "bst.preorder(root)\n",
    "print('In-order Tree Traversal')\n",
    "bst.inorder(root)\n",
    "print('Post-order Tree Traversal')\n",
    "bst.postorder(root)"
   ]
  },
  {
   "cell_type": "code",
   "execution_count": 9,
   "metadata": {},
   "outputs": [
    {
     "name": "stdout",
     "output_type": "stream",
     "text": [
      "Node 12 does not exist\n",
      "Node 10 exists\n"
     ]
    }
   ],
   "source": [
    "# Searching for a node \n",
    "print(bst.search_node(root,12))\n",
    "print(bst.search_node(root,10))"
   ]
  },
  {
   "cell_type": "code",
   "execution_count": 12,
   "metadata": {},
   "outputs": [
    {
     "data": {
      "text/plain": [
       "<graphsTrees.trees.node.Node at 0x10a2a23a0>"
      ]
     },
     "execution_count": 12,
     "metadata": {},
     "output_type": "execute_result"
    }
   ],
   "source": [
    "# Deleting node\n",
    "bst.delete_node(root,19)"
   ]
  },
  {
   "cell_type": "code",
   "execution_count": 13,
   "metadata": {},
   "outputs": [
    {
     "name": "stdout",
     "output_type": "stream",
     "text": [
      "1\n",
      "10\n",
      "13\n",
      "17\n",
      "18\n"
     ]
    }
   ],
   "source": [
    "bst.inorder(root)"
   ]
  },
  {
   "cell_type": "code",
   "execution_count": null,
   "metadata": {},
   "outputs": [],
   "source": []
  }
 ],
 "metadata": {
  "kernelspec": {
   "display_name": "Python 3",
   "language": "python",
   "name": "python3"
  },
  "language_info": {
   "codemirror_mode": {
    "name": "ipython",
    "version": 3
   },
   "file_extension": ".py",
   "mimetype": "text/x-python",
   "name": "python",
   "nbconvert_exporter": "python",
   "pygments_lexer": "ipython3",
   "version": "3.8.3"
  }
 },
 "nbformat": 4,
 "nbformat_minor": 4
}
