{
 "cells": [
  {
   "cell_type": "code",
   "execution_count": 82,
   "metadata": {},
   "outputs": [],
   "source": [
    "import numpy as np\n",
    "import pandas as pd\n",
    "\n",
    "#Input must be of form vertex: integer. edges: list of lists of two elements of vertex set.\n",
    "#I can't figure out how to get the code to check for the correct inputs\n",
    "#I also can't figure out how to check if the initial edges are valid.\n",
    "# HOWEVER the code works if the input is as intended\n",
    "# ALSO this only works if you rerun the class definition cell for some reason?\n",
    "\n",
    "class Graph:\n",
    "    def __init__(self, vertices, edges):\n",
    "        self.vertices = np.arange(vertices)\n",
    "        self.edges = edges\n",
    "        \n",
    "    def addEdge(self, v1, v2):\n",
    "        if (v1 in self.vertices and v2 in self.vertices):\n",
    "            if [v1, v2] not in self.edges and [v2, v1] not in self.edges:\n",
    "                self.edges.append([v1, v2])\n",
    "            else:\n",
    "                print('Edge already in edge set')\n",
    "        else:\n",
    "            print('Input valid vertices')\n",
    "            \n",
    "    def addVertex(self):\n",
    "        self.vertices = np.arange(len(self.vertices) + 1)\n",
    "        print(f'Vertex {len(self.vertices)-1} added')\n",
    "            \n",
    "    def rmEdge(self, v1, v2):\n",
    "        if [v1, v2] in self.edges:\n",
    "            self.edges.remove([v1, v2])\n",
    "        elif [v2, v1] in self.edges:\n",
    "            self.edges.remove([v2, v1])\n",
    "        else:\n",
    "            print('Edge not in edge set')\n",
    "            \n",
    "    #This function broke my indexing for other functions and it was too much hassle to alter the indexes\n",
    "#     def rmVertex(self, vertex):\n",
    "#         if vertex in self.vertices:\n",
    "#             self.vertices.remove(vertex)\n",
    "#             for edge in self.edges:\n",
    "#                 if vertex in edge:\n",
    "#                     self.edges.remove(edge)\n",
    "#         else:\n",
    "#             print('Not in vertex set')\n",
    "    \n",
    "    def printGraph(self):\n",
    "        print(f'Vertex set: {self.vertices}\\nEdge set: {self.edges}')\n",
    "        \n",
    "    def adjMatrix(self): # Gives the adjacency matrix of the graph. Used in other functions\n",
    "        #Make an n by n zero matrix\n",
    "        matrix = np.zeros(len(self.vertices)*len(self.vertices)).reshape(len(self.vertices), len(self.vertices))\n",
    "        for edge in self.edges:\n",
    "            matrix[edge[0]][edge[1]] = 1 #Graph is undirected and unweighted, so both transposes are set to 1\n",
    "            matrix[edge[1]][edge[0]] = 1\n",
    "        return matrix\n",
    "        \n",
    "        \n",
    "    # I got a lot of help from here https://www.geeksforgeeks.org/implementation-of-dfs-using-adjacency-matrix/\n",
    "    def DFS(self, start, visited = set(), previous = None):\n",
    "        hasCycles = False #Used in the hasCycles method\n",
    "        matrix = self.adjMatrix() # I could only figure out how to make this work for adjacency matrices\n",
    "        print(f'Visit {start} from {previous}')\n",
    "        visited.add(start)\n",
    "        for i in self.vertices:\n",
    "            if matrix[start][i] != 0:\n",
    "                if i in visited and i != previous:\n",
    "                    hasCycles = True\n",
    "                elif i not in visited:\n",
    "                    self.DFS(i, visited, previous = start)\n",
    "        return [visited, hasCycles] #We need these in the following two functions\n",
    "        \n",
    "    def isConnected(self):\n",
    "        if len(self.DFS(0)[0]) == len(self.vertices):\n",
    "            return True\n",
    "        else:\n",
    "            return False\n",
    "    \n",
    "    def hasCycles(self):\n",
    "        if self.DFS(0)[1] == True:\n",
    "            return True\n",
    "        else:\n",
    "            return False"
   ]
  },
  {
   "cell_type": "code",
   "execution_count": 84,
   "metadata": {},
   "outputs": [
    {
     "name": "stdout",
     "output_type": "stream",
     "text": [
      "Vertex 5 added\n",
      "Vertex set: [0 1 2 3 4 5]\n",
      "Edge set: [[0, 1], [1, 2], [2, 3], [3, 4], [2, 5]]\n",
      "Vertex set: [0 1 2 3 4 5]\n",
      "Edge set: [[0, 1], [2, 3], [3, 4], [2, 5]]\n",
      "Visit 0 from None\n"
     ]
    },
    {
     "data": {
      "text/plain": [
       "False"
      ]
     },
     "execution_count": 84,
     "metadata": {},
     "output_type": "execute_result"
    }
   ],
   "source": [
    "G = Graph(5, [[0,1],[1,2],[2,3],[3,4]])\n",
    "G.addVertex()\n",
    "G.addEdge(2,5)\n",
    "G.printGraph()\n",
    "G.rmEdge(1,2)\n",
    "G.printGraph()\n",
    "G.isConnected()"
   ]
  },
  {
   "cell_type": "code",
   "execution_count": 89,
   "metadata": {},
   "outputs": [],
   "source": [
    "#Vertices and edges as above. weights must be a list of numbers of same length as edge set, and applies \n",
    "#Weights to edges in index-wise fashion\n",
    "\n",
    "class wtGraph(Graph):\n",
    "    def __init__(self, vertices, edges, weights):\n",
    "        Graph.__init__(self, vertices, edges)\n",
    "        self.weights = weights\n",
    "        \n",
    "    #Adjust the adjMatrix function to incorperate weights\n",
    "    def adjMatrix(self): # Gives the adjacency matrix of the graph. Used in other functions\n",
    "        #Make an n by n zero matrix\n",
    "        matrix = np.zeros(len(self.vertices)*len(self.vertices)).reshape(len(self.vertices), len(self.vertices))\n",
    "        for edge in self.edges:\n",
    "            matrix[edge[0]][edge[1]] = self.weights[self.edges.index(edge)] #Graph is undirected and unweighted, so both transposes are set to 1\n",
    "            matrix[edge[1]][edge[0]] = self.weights[self.edges.index(edge)]\n",
    "        return matrix\n",
    "    \n",
    "    def kruskal(self):\n",
    "        vertices = self.vertices\n",
    "        edges = self.edges\n",
    "        weights = self.weights\n",
    "        tree = []\n",
    "        if self.isConnected() == True:\n",
    "            while len(tree) < len(vertices) - 1:\n",
    "                tree.append(self.edges[self.weights.index(min(self.weights))])\n",
    "                edges.remove(self.edges[self.weights.index(min(self.weights))])\n",
    "                weights.remove(min(self.weights))\n",
    "            return tree\n",
    "        else:\n",
    "            print('Graph is disconnected, and there is no spanning tree')"
   ]
  },
  {
   "cell_type": "code",
   "execution_count": 90,
   "metadata": {},
   "outputs": [
    {
     "name": "stdout",
     "output_type": "stream",
     "text": [
      "Visit 0 from None\n"
     ]
    },
    {
     "data": {
      "text/plain": [
       "[[2, 3], [2, 0], [0, 1]]"
      ]
     },
     "execution_count": 90,
     "metadata": {},
     "output_type": "execute_result"
    }
   ],
   "source": [
    "Gr = wtGraph(4, [[0,1], [1,3], [2,3], [2,0]], [3, 5, 1, 2])\n",
    "Gr.adjMatrix()\n",
    "Gr.kruskal()"
   ]
  },
  {
   "cell_type": "code",
   "execution_count": 27,
   "metadata": {},
   "outputs": [
    {
     "data": {
      "text/plain": [
       "[1, 2, 3, 4]"
      ]
     },
     "execution_count": 27,
     "metadata": {},
     "output_type": "execute_result"
    }
   ],
   "source": [
    "x = [1,2,3]\n",
    "x.append(4)\n",
    "x"
   ]
  }
 ],
 "metadata": {
  "kernelspec": {
   "display_name": "Python 3",
   "language": "python",
   "name": "python3"
  },
  "language_info": {
   "codemirror_mode": {
    "name": "ipython",
    "version": 3
   },
   "file_extension": ".py",
   "mimetype": "text/x-python",
   "name": "python",
   "nbconvert_exporter": "python",
   "pygments_lexer": "ipython3",
   "version": "3.8.5"
  }
 },
 "nbformat": 4,
 "nbformat_minor": 4
}
